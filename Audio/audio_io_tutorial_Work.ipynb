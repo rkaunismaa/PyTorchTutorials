{
 "cells": [
  {
   "cell_type": "markdown",
   "metadata": {},
   "source": [
    "Date:   Sunday, February 5, 2023\n",
    "\n",
    "Source: https://pytorch.org/tutorials/beginner/audio_io_tutorial.html\n",
    "\n",
    "Runtime Environment: Docker, pytorch/pytorch:1.12.1-cuda11.3-cudnn8-devel, pt1121:20230205"
   ]
  },
  {
   "cell_type": "code",
   "execution_count": null,
   "metadata": {},
   "outputs": [],
   "source": []
  },
  {
   "cell_type": "code",
   "execution_count": null,
   "metadata": {},
   "outputs": [],
   "source": [
    "import time\n",
    "from datetime import date\n",
    "\n",
    "startTime = time.time()\n",
    "todaysDate = date.today()"
   ]
  },
  {
   "cell_type": "code",
   "execution_count": null,
   "metadata": {
    "collapsed": false,
    "jupyter": {
     "outputs_hidden": false
    }
   },
   "outputs": [],
   "source": [
    "%matplotlib inline"
   ]
  },
  {
   "cell_type": "markdown",
   "metadata": {},
   "source": [
    "\n",
    "# Audio I/O\n",
    "\n",
    "This tutorial shows how to use TorchAudio's basic I/O API to load audio files\n",
    "into PyTorch's Tensor object, and save Tensor objects to audio files.\n"
   ]
  },
  {
   "cell_type": "code",
   "execution_count": 2,
   "metadata": {
    "tags": []
   },
   "outputs": [
    {
     "name": "stdout",
     "output_type": "stream",
     "text": [
      "Collecting torchaudio==0.12.1\n",
      "  Downloading torchaudio-0.12.1-cp37-cp37m-manylinux1_x86_64.whl (3.7 MB)\n",
      "\u001b[2K     \u001b[90m━━━━━━━━━━━━━━━━━━━━━━━━━━━━━━━━━━━━━━━━\u001b[0m \u001b[32m3.7/3.7 MB\u001b[0m \u001b[31m1.2 MB/s\u001b[0m eta \u001b[36m0:00:00\u001b[0m00:01\u001b[0m00:01\u001b[0m\n",
      "\u001b[?25hRequirement already satisfied: torch==1.12.1 in /opt/conda/lib/python3.7/site-packages (from torchaudio==0.12.1) (1.12.1)\n",
      "Requirement already satisfied: typing_extensions in /opt/conda/lib/python3.7/site-packages (from torch==1.12.1->torchaudio==0.12.1) (4.3.0)\n",
      "Installing collected packages: torchaudio\n",
      "Successfully installed torchaudio-0.12.1\n",
      "\u001b[33mWARNING: Running pip as the 'root' user can result in broken permissions and conflicting behaviour with the system package manager. It is recommended to use a virtual environment instead: https://pip.pypa.io/warnings/venv\u001b[0m\u001b[33m\n",
      "\u001b[0m"
     ]
    }
   ],
   "source": [
    "#!pip install torchaudio==0.12.1"
   ]
  },
  {
   "cell_type": "code",
   "execution_count": 1,
   "metadata": {
    "collapsed": false,
    "jupyter": {
     "outputs_hidden": false
    },
    "tags": []
   },
   "outputs": [
    {
     "ename": "OSError",
     "evalue": "libcudart.so.10.2: cannot open shared object file: No such file or directory",
     "output_type": "error",
     "traceback": [
      "\u001b[0;31m---------------------------------------------------------------------------\u001b[0m",
      "\u001b[0;31mOSError\u001b[0m                                   Traceback (most recent call last)",
      "\u001b[0;32m/tmp/ipykernel_18/3773483381.py\u001b[0m in \u001b[0;36m<module>\u001b[0;34m\u001b[0m\n\u001b[1;32m      1\u001b[0m \u001b[0;32mimport\u001b[0m \u001b[0mtorch\u001b[0m\u001b[0;34m\u001b[0m\u001b[0;34m\u001b[0m\u001b[0m\n\u001b[0;32m----> 2\u001b[0;31m \u001b[0;32mimport\u001b[0m \u001b[0mtorchaudio\u001b[0m\u001b[0;34m\u001b[0m\u001b[0;34m\u001b[0m\u001b[0m\n\u001b[0m\u001b[1;32m      3\u001b[0m \u001b[0;34m\u001b[0m\u001b[0m\n\u001b[1;32m      4\u001b[0m \u001b[0mprint\u001b[0m\u001b[0;34m(\u001b[0m\u001b[0mtorch\u001b[0m\u001b[0;34m.\u001b[0m\u001b[0m__version__\u001b[0m\u001b[0;34m)\u001b[0m\u001b[0;34m\u001b[0m\u001b[0;34m\u001b[0m\u001b[0m\n\u001b[1;32m      5\u001b[0m \u001b[0mprint\u001b[0m\u001b[0;34m(\u001b[0m\u001b[0mtorchaudio\u001b[0m\u001b[0;34m.\u001b[0m\u001b[0m__version__\u001b[0m\u001b[0;34m)\u001b[0m\u001b[0;34m\u001b[0m\u001b[0;34m\u001b[0m\u001b[0m\n",
      "\u001b[0;32m/opt/conda/lib/python3.7/site-packages/torchaudio/__init__.py\u001b[0m in \u001b[0;36m<module>\u001b[0;34m\u001b[0m\n\u001b[0;32m----> 1\u001b[0;31m from torchaudio import (  # noqa: F401\n\u001b[0m\u001b[1;32m      2\u001b[0m     \u001b[0m_extension\u001b[0m\u001b[0;34m,\u001b[0m\u001b[0;34m\u001b[0m\u001b[0;34m\u001b[0m\u001b[0m\n\u001b[1;32m      3\u001b[0m     \u001b[0mcompliance\u001b[0m\u001b[0;34m,\u001b[0m\u001b[0;34m\u001b[0m\u001b[0;34m\u001b[0m\u001b[0m\n\u001b[1;32m      4\u001b[0m     \u001b[0mdatasets\u001b[0m\u001b[0;34m,\u001b[0m\u001b[0;34m\u001b[0m\u001b[0;34m\u001b[0m\u001b[0m\n\u001b[1;32m      5\u001b[0m     \u001b[0mfunctional\u001b[0m\u001b[0;34m,\u001b[0m\u001b[0;34m\u001b[0m\u001b[0;34m\u001b[0m\u001b[0m\n",
      "\u001b[0;32m/opt/conda/lib/python3.7/site-packages/torchaudio/_extension.py\u001b[0m in \u001b[0;36m<module>\u001b[0;34m\u001b[0m\n\u001b[1;32m    101\u001b[0m \u001b[0;34m\u001b[0m\u001b[0m\n\u001b[1;32m    102\u001b[0m \u001b[0;34m\u001b[0m\u001b[0m\n\u001b[0;32m--> 103\u001b[0;31m \u001b[0m_init_extension\u001b[0m\u001b[0;34m(\u001b[0m\u001b[0;34m)\u001b[0m\u001b[0;34m\u001b[0m\u001b[0;34m\u001b[0m\u001b[0m\n\u001b[0m",
      "\u001b[0;32m/opt/conda/lib/python3.7/site-packages/torchaudio/_extension.py\u001b[0m in \u001b[0;36m_init_extension\u001b[0;34m()\u001b[0m\n\u001b[1;32m     86\u001b[0m         \u001b[0;32mreturn\u001b[0m\u001b[0;34m\u001b[0m\u001b[0;34m\u001b[0m\u001b[0m\n\u001b[1;32m     87\u001b[0m \u001b[0;34m\u001b[0m\u001b[0m\n\u001b[0;32m---> 88\u001b[0;31m     \u001b[0m_load_lib\u001b[0m\u001b[0;34m(\u001b[0m\u001b[0;34m\"libtorchaudio\"\u001b[0m\u001b[0;34m)\u001b[0m\u001b[0;34m\u001b[0m\u001b[0;34m\u001b[0m\u001b[0m\n\u001b[0m\u001b[1;32m     89\u001b[0m     \u001b[0;31m# This import is for initializing the methods registered via PyBind11\u001b[0m\u001b[0;34m\u001b[0m\u001b[0;34m\u001b[0m\u001b[0;34m\u001b[0m\u001b[0m\n\u001b[1;32m     90\u001b[0m     \u001b[0;31m# This has to happen after the base library is loaded\u001b[0m\u001b[0;34m\u001b[0m\u001b[0;34m\u001b[0m\u001b[0;34m\u001b[0m\u001b[0m\n",
      "\u001b[0;32m/opt/conda/lib/python3.7/site-packages/torchaudio/_extension.py\u001b[0m in \u001b[0;36m_load_lib\u001b[0;34m(lib)\u001b[0m\n\u001b[1;32m     49\u001b[0m     \u001b[0;32mif\u001b[0m \u001b[0;32mnot\u001b[0m \u001b[0mpath\u001b[0m\u001b[0;34m.\u001b[0m\u001b[0mexists\u001b[0m\u001b[0;34m(\u001b[0m\u001b[0;34m)\u001b[0m\u001b[0;34m:\u001b[0m\u001b[0;34m\u001b[0m\u001b[0;34m\u001b[0m\u001b[0m\n\u001b[1;32m     50\u001b[0m         \u001b[0;32mreturn\u001b[0m \u001b[0;32mFalse\u001b[0m\u001b[0;34m\u001b[0m\u001b[0;34m\u001b[0m\u001b[0m\n\u001b[0;32m---> 51\u001b[0;31m     \u001b[0mtorch\u001b[0m\u001b[0;34m.\u001b[0m\u001b[0mops\u001b[0m\u001b[0;34m.\u001b[0m\u001b[0mload_library\u001b[0m\u001b[0;34m(\u001b[0m\u001b[0mpath\u001b[0m\u001b[0;34m)\u001b[0m\u001b[0;34m\u001b[0m\u001b[0;34m\u001b[0m\u001b[0m\n\u001b[0m\u001b[1;32m     52\u001b[0m     \u001b[0mtorch\u001b[0m\u001b[0;34m.\u001b[0m\u001b[0mclasses\u001b[0m\u001b[0;34m.\u001b[0m\u001b[0mload_library\u001b[0m\u001b[0;34m(\u001b[0m\u001b[0mpath\u001b[0m\u001b[0;34m)\u001b[0m\u001b[0;34m\u001b[0m\u001b[0;34m\u001b[0m\u001b[0m\n\u001b[1;32m     53\u001b[0m     \u001b[0;32mreturn\u001b[0m \u001b[0;32mTrue\u001b[0m\u001b[0;34m\u001b[0m\u001b[0;34m\u001b[0m\u001b[0m\n",
      "\u001b[0;32m/opt/conda/lib/python3.7/site-packages/torch/_ops.py\u001b[0m in \u001b[0;36mload_library\u001b[0;34m(self, path)\u001b[0m\n\u001b[1;32m    253\u001b[0m             \u001b[0;31m# static (global) initialization code in order to register custom\u001b[0m\u001b[0;34m\u001b[0m\u001b[0;34m\u001b[0m\u001b[0;34m\u001b[0m\u001b[0m\n\u001b[1;32m    254\u001b[0m             \u001b[0;31m# operators with the JIT.\u001b[0m\u001b[0;34m\u001b[0m\u001b[0;34m\u001b[0m\u001b[0;34m\u001b[0m\u001b[0m\n\u001b[0;32m--> 255\u001b[0;31m             \u001b[0mctypes\u001b[0m\u001b[0;34m.\u001b[0m\u001b[0mCDLL\u001b[0m\u001b[0;34m(\u001b[0m\u001b[0mpath\u001b[0m\u001b[0;34m)\u001b[0m\u001b[0;34m\u001b[0m\u001b[0;34m\u001b[0m\u001b[0m\n\u001b[0m\u001b[1;32m    256\u001b[0m         \u001b[0mself\u001b[0m\u001b[0;34m.\u001b[0m\u001b[0mloaded_libraries\u001b[0m\u001b[0;34m.\u001b[0m\u001b[0madd\u001b[0m\u001b[0;34m(\u001b[0m\u001b[0mpath\u001b[0m\u001b[0;34m)\u001b[0m\u001b[0;34m\u001b[0m\u001b[0;34m\u001b[0m\u001b[0m\n\u001b[1;32m    257\u001b[0m \u001b[0;34m\u001b[0m\u001b[0m\n",
      "\u001b[0;32m/opt/conda/lib/python3.7/ctypes/__init__.py\u001b[0m in \u001b[0;36m__init__\u001b[0;34m(self, name, mode, handle, use_errno, use_last_error)\u001b[0m\n\u001b[1;32m    362\u001b[0m \u001b[0;34m\u001b[0m\u001b[0m\n\u001b[1;32m    363\u001b[0m         \u001b[0;32mif\u001b[0m \u001b[0mhandle\u001b[0m \u001b[0;32mis\u001b[0m \u001b[0;32mNone\u001b[0m\u001b[0;34m:\u001b[0m\u001b[0;34m\u001b[0m\u001b[0;34m\u001b[0m\u001b[0m\n\u001b[0;32m--> 364\u001b[0;31m             \u001b[0mself\u001b[0m\u001b[0;34m.\u001b[0m\u001b[0m_handle\u001b[0m \u001b[0;34m=\u001b[0m \u001b[0m_dlopen\u001b[0m\u001b[0;34m(\u001b[0m\u001b[0mself\u001b[0m\u001b[0;34m.\u001b[0m\u001b[0m_name\u001b[0m\u001b[0;34m,\u001b[0m \u001b[0mmode\u001b[0m\u001b[0;34m)\u001b[0m\u001b[0;34m\u001b[0m\u001b[0;34m\u001b[0m\u001b[0m\n\u001b[0m\u001b[1;32m    365\u001b[0m         \u001b[0;32melse\u001b[0m\u001b[0;34m:\u001b[0m\u001b[0;34m\u001b[0m\u001b[0;34m\u001b[0m\u001b[0m\n\u001b[1;32m    366\u001b[0m             \u001b[0mself\u001b[0m\u001b[0;34m.\u001b[0m\u001b[0m_handle\u001b[0m \u001b[0;34m=\u001b[0m \u001b[0mhandle\u001b[0m\u001b[0;34m\u001b[0m\u001b[0;34m\u001b[0m\u001b[0m\n",
      "\u001b[0;31mOSError\u001b[0m: libcudart.so.10.2: cannot open shared object file: No such file or directory"
     ]
    }
   ],
   "source": [
    "import torch\n",
    "import torchaudio\n",
    "\n",
    "print(torch.__version__)\n",
    "print(torchaudio.__version__)"
   ]
  },
  {
   "cell_type": "markdown",
   "metadata": {},
   "source": [
    "## Preparation\n",
    "\n",
    "First, we import the modules and download the audio assets we use in this tutorial.\n",
    "\n",
    "<div class=\"alert alert-info\"><h4>Note</h4><p>When running this tutorial in Google Colab, install the required packages\n",
    "   with the following:\n",
    "\n",
    "   .. code::\n",
    "\n",
    "      !pip install boto3</p></div>\n",
    "\n"
   ]
  },
  {
   "cell_type": "code",
   "execution_count": null,
   "metadata": {
    "collapsed": false,
    "jupyter": {
     "outputs_hidden": false
    }
   },
   "outputs": [],
   "source": [
    "import io\n",
    "import os\n",
    "import tarfile\n",
    "import tempfile\n",
    "\n",
    "import boto3\n",
    "import matplotlib.pyplot as plt\n",
    "import requests\n",
    "from botocore import UNSIGNED\n",
    "from botocore.config import Config\n",
    "from IPython.display import Audio\n",
    "from torchaudio.utils import download_asset\n",
    "\n",
    "SAMPLE_GSM = download_asset(\"tutorial-assets/steam-train-whistle-daniel_simon.gsm\")\n",
    "SAMPLE_WAV = download_asset(\"tutorial-assets/Lab41-SRI-VOiCES-src-sp0307-ch127535-sg0042.wav\")\n",
    "SAMPLE_WAV_8000 = download_asset(\"tutorial-assets/Lab41-SRI-VOiCES-src-sp0307-ch127535-sg0042-8000hz.wav\")"
   ]
  },
  {
   "cell_type": "markdown",
   "metadata": {},
   "source": [
    "## Querying audio metadata\n",
    "\n",
    "Function :py:func:`torchaudio.info` fetches audio metadata.\n",
    "You can provide a path-like object or file-like object.\n",
    "\n",
    "\n"
   ]
  },
  {
   "cell_type": "code",
   "execution_count": null,
   "metadata": {
    "collapsed": false,
    "jupyter": {
     "outputs_hidden": false
    }
   },
   "outputs": [],
   "source": [
    "metadata = torchaudio.info(SAMPLE_WAV)\n",
    "print(metadata)"
   ]
  },
  {
   "cell_type": "markdown",
   "metadata": {},
   "source": [
    "Where\n",
    "\n",
    "-  ``sample_rate`` is the sampling rate of the audio\n",
    "-  ``num_channels`` is the number of channels\n",
    "-  ``num_frames`` is the number of frames per channel\n",
    "-  ``bits_per_sample`` is bit depth\n",
    "-  ``encoding`` is the sample coding format\n",
    "\n",
    "``encoding`` can take on one of the following values:\n",
    "\n",
    "-  ``\"PCM_S\"``: Signed integer linear PCM\n",
    "-  ``\"PCM_U\"``: Unsigned integer linear PCM\n",
    "-  ``\"PCM_F\"``: Floating point linear PCM\n",
    "-  ``\"FLAC\"``: Flac, [Free Lossless Audio\n",
    "   Codec](https://xiph.org/flac/)_\n",
    "-  ``\"ULAW\"``: Mu-law,\n",
    "   [[wikipedia](https://en.wikipedia.org/wiki/%CE%9C-law_algorithm)_]\n",
    "-  ``\"ALAW\"``: A-law\n",
    "   [[wikipedia](https://en.wikipedia.org/wiki/A-law_algorithm)_]\n",
    "-  ``\"MP3\"`` : MP3, MPEG-1 Audio Layer III\n",
    "-  ``\"VORBIS\"``: OGG Vorbis [[xiph.org](https://xiph.org/vorbis/)_]\n",
    "-  ``\"AMR_NB\"``: Adaptive Multi-Rate\n",
    "   [[wikipedia](https://en.wikipedia.org/wiki/Adaptive_Multi-Rate_audio_codec)_]\n",
    "-  ``\"AMR_WB\"``: Adaptive Multi-Rate Wideband\n",
    "   [[wikipedia](https://en.wikipedia.org/wiki/Adaptive_Multi-Rate_Wideband)_]\n",
    "-  ``\"OPUS\"``: Opus [[opus-codec.org](https://opus-codec.org/)_]\n",
    "-  ``\"GSM\"``: GSM-FR\n",
    "   [[wikipedia](https://en.wikipedia.org/wiki/Full_Rate)_]\n",
    "-  ``\"HTK\"``: Single channel 16-bit PCM\n",
    "-  ``\"UNKNOWN\"`` None of above\n",
    "\n",
    "\n"
   ]
  },
  {
   "cell_type": "markdown",
   "metadata": {},
   "source": [
    "**Note**\n",
    "\n",
    "-  ``bits_per_sample`` can be ``0`` for formats with compression and/or\n",
    "   variable bit rate (such as MP3).\n",
    "-  ``num_frames`` can be ``0`` for GSM-FR format.\n",
    "\n",
    "\n"
   ]
  },
  {
   "cell_type": "code",
   "execution_count": null,
   "metadata": {
    "collapsed": false,
    "jupyter": {
     "outputs_hidden": false
    }
   },
   "outputs": [],
   "source": [
    "metadata = torchaudio.info(SAMPLE_GSM)\n",
    "print(metadata)"
   ]
  },
  {
   "cell_type": "markdown",
   "metadata": {},
   "source": [
    "## Querying file-like object\n",
    "\n",
    ":py:func:`torchaudio.info` works on file-like objects.\n",
    "\n",
    "\n"
   ]
  },
  {
   "cell_type": "code",
   "execution_count": null,
   "metadata": {
    "collapsed": false,
    "jupyter": {
     "outputs_hidden": false
    }
   },
   "outputs": [],
   "source": [
    "url = \"https://download.pytorch.org/torchaudio/tutorial-assets/steam-train-whistle-daniel_simon.wav\"\n",
    "with requests.get(url, stream=True) as response:\n",
    "    metadata = torchaudio.info(response.raw)\n",
    "print(metadata)"
   ]
  },
  {
   "cell_type": "markdown",
   "metadata": {},
   "source": [
    "<div class=\"alert alert-info\"><h4>Note</h4><p>When passing a file-like object, ``info`` does not read\n",
    "   all of the underlying data; rather, it reads only a portion\n",
    "   of the data from the beginning.\n",
    "   Therefore, for a given audio format, it may not be able to retrieve the\n",
    "   correct metadata, including the format itself. In such case, you\n",
    "   can pass ``format`` argument to specify the format of the audio.</p></div>\n",
    "\n"
   ]
  },
  {
   "cell_type": "markdown",
   "metadata": {},
   "source": [
    "## Loading audio data\n",
    "\n",
    "To load audio data, you can use :py:func:`torchaudio.load`.\n",
    "\n",
    "This function accepts a path-like object or file-like object as input.\n",
    "\n",
    "The returned value is a tuple of waveform (``Tensor``) and sample rate\n",
    "(``int``).\n",
    "\n",
    "By default, the resulting tensor object has ``dtype=torch.float32`` and\n",
    "its value range is ``[-1.0, 1.0]``.\n",
    "\n",
    "For the list of supported format, please refer to [the torchaudio\n",
    "documentation](https://pytorch.org/audio)_.\n",
    "\n",
    "\n"
   ]
  },
  {
   "cell_type": "code",
   "execution_count": null,
   "metadata": {
    "collapsed": false,
    "jupyter": {
     "outputs_hidden": false
    }
   },
   "outputs": [],
   "source": [
    "waveform, sample_rate = torchaudio.load(SAMPLE_WAV)"
   ]
  },
  {
   "cell_type": "code",
   "execution_count": null,
   "metadata": {
    "collapsed": false,
    "jupyter": {
     "outputs_hidden": false
    }
   },
   "outputs": [],
   "source": [
    "def plot_waveform(waveform, sample_rate):\n",
    "    waveform = waveform.numpy()\n",
    "\n",
    "    num_channels, num_frames = waveform.shape\n",
    "    time_axis = torch.arange(0, num_frames) / sample_rate\n",
    "\n",
    "    figure, axes = plt.subplots(num_channels, 1)\n",
    "    if num_channels == 1:\n",
    "        axes = [axes]\n",
    "    for c in range(num_channels):\n",
    "        axes[c].plot(time_axis, waveform[c], linewidth=1)\n",
    "        axes[c].grid(True)\n",
    "        if num_channels > 1:\n",
    "            axes[c].set_ylabel(f\"Channel {c+1}\")\n",
    "    figure.suptitle(\"waveform\")\n",
    "    plt.show(block=False)"
   ]
  },
  {
   "cell_type": "code",
   "execution_count": null,
   "metadata": {
    "collapsed": false,
    "jupyter": {
     "outputs_hidden": false
    }
   },
   "outputs": [],
   "source": [
    "plot_waveform(waveform, sample_rate)"
   ]
  },
  {
   "cell_type": "code",
   "execution_count": null,
   "metadata": {
    "collapsed": false,
    "jupyter": {
     "outputs_hidden": false
    }
   },
   "outputs": [],
   "source": [
    "def plot_specgram(waveform, sample_rate, title=\"Spectrogram\"):\n",
    "    waveform = waveform.numpy()\n",
    "\n",
    "    num_channels, num_frames = waveform.shape\n",
    "\n",
    "    figure, axes = plt.subplots(num_channels, 1)\n",
    "    if num_channels == 1:\n",
    "        axes = [axes]\n",
    "    for c in range(num_channels):\n",
    "        axes[c].specgram(waveform[c], Fs=sample_rate)\n",
    "        if num_channels > 1:\n",
    "            axes[c].set_ylabel(f\"Channel {c+1}\")\n",
    "    figure.suptitle(title)\n",
    "    plt.show(block=False)"
   ]
  },
  {
   "cell_type": "code",
   "execution_count": null,
   "metadata": {
    "collapsed": false,
    "jupyter": {
     "outputs_hidden": false
    }
   },
   "outputs": [],
   "source": [
    "plot_specgram(waveform, sample_rate)"
   ]
  },
  {
   "cell_type": "code",
   "execution_count": null,
   "metadata": {
    "collapsed": false,
    "jupyter": {
     "outputs_hidden": false
    }
   },
   "outputs": [],
   "source": [
    "Audio(waveform.numpy()[0], rate=sample_rate)"
   ]
  },
  {
   "cell_type": "markdown",
   "metadata": {},
   "source": [
    "## Loading from file-like object\n",
    "\n",
    "The I/O functions support file-like objects.\n",
    "This allows for fetching and decoding audio data from locations\n",
    "within and beyond the local file system.\n",
    "The following examples illustrate this.\n",
    "\n",
    "\n"
   ]
  },
  {
   "cell_type": "code",
   "execution_count": null,
   "metadata": {
    "collapsed": false,
    "jupyter": {
     "outputs_hidden": false
    }
   },
   "outputs": [],
   "source": [
    "# Load audio data as HTTP request\n",
    "url = \"https://download.pytorch.org/torchaudio/tutorial-assets/Lab41-SRI-VOiCES-src-sp0307-ch127535-sg0042.wav\"\n",
    "with requests.get(url, stream=True) as response:\n",
    "    waveform, sample_rate = torchaudio.load(response.raw)\n",
    "plot_specgram(waveform, sample_rate, title=\"HTTP datasource\")"
   ]
  },
  {
   "cell_type": "code",
   "execution_count": null,
   "metadata": {
    "collapsed": false,
    "jupyter": {
     "outputs_hidden": false
    }
   },
   "outputs": [],
   "source": [
    "# Load audio from tar file\n",
    "tar_path = download_asset(\"tutorial-assets/VOiCES_devkit.tar.gz\")\n",
    "tar_item = \"VOiCES_devkit/source-16k/train/sp0307/Lab41-SRI-VOiCES-src-sp0307-ch127535-sg0042.wav\"\n",
    "with tarfile.open(tar_path, mode=\"r\") as tarfile_:\n",
    "    fileobj = tarfile_.extractfile(tar_item)\n",
    "    waveform, sample_rate = torchaudio.load(fileobj)\n",
    "plot_specgram(waveform, sample_rate, title=\"TAR file\")"
   ]
  },
  {
   "cell_type": "code",
   "execution_count": null,
   "metadata": {
    "collapsed": false,
    "jupyter": {
     "outputs_hidden": false
    }
   },
   "outputs": [],
   "source": [
    "# Load audio from S3\n",
    "bucket = \"pytorch-tutorial-assets\"\n",
    "key = \"VOiCES_devkit/source-16k/train/sp0307/Lab41-SRI-VOiCES-src-sp0307-ch127535-sg0042.wav\"\n",
    "client = boto3.client(\"s3\", config=Config(signature_version=UNSIGNED))\n",
    "response = client.get_object(Bucket=bucket, Key=key)\n",
    "waveform, sample_rate = torchaudio.load(response[\"Body\"])\n",
    "plot_specgram(waveform, sample_rate, title=\"From S3\")"
   ]
  },
  {
   "cell_type": "markdown",
   "metadata": {},
   "source": [
    "## Tips on slicing\n",
    "\n",
    "Providing ``num_frames`` and ``frame_offset`` arguments restricts\n",
    "decoding to the corresponding segment of the input.\n",
    "\n",
    "The same result can be achieved using vanilla Tensor slicing,\n",
    "(i.e. ``waveform[:, frame_offset:frame_offset+num_frames]``). However,\n",
    "providing ``num_frames`` and ``frame_offset`` arguments is more\n",
    "efficient.\n",
    "\n",
    "This is because the function will end data acquisition and decoding\n",
    "once it finishes decoding the requested frames. This is advantageous\n",
    "when the audio data are transferred via network as the data transfer will\n",
    "stop as soon as the necessary amount of data is fetched.\n",
    "\n",
    "The following example illustrates this.\n",
    "\n",
    "\n"
   ]
  },
  {
   "cell_type": "code",
   "execution_count": null,
   "metadata": {
    "collapsed": false,
    "jupyter": {
     "outputs_hidden": false
    }
   },
   "outputs": [],
   "source": [
    "# Illustration of two different decoding methods.\n",
    "# The first one will fetch all the data and decode them, while\n",
    "# the second one will stop fetching data once it completes decoding.\n",
    "# The resulting waveforms are identical.\n",
    "\n",
    "frame_offset, num_frames = 16000, 16000  # Fetch and decode the 1 - 2 seconds\n",
    "\n",
    "url = \"https://download.pytorch.org/torchaudio/tutorial-assets/Lab41-SRI-VOiCES-src-sp0307-ch127535-sg0042.wav\"\n",
    "print(\"Fetching all the data...\")\n",
    "with requests.get(url, stream=True) as response:\n",
    "    waveform1, sample_rate1 = torchaudio.load(response.raw)\n",
    "    waveform1 = waveform1[:, frame_offset : frame_offset + num_frames]\n",
    "    print(f\" - Fetched {response.raw.tell()} bytes\")\n",
    "\n",
    "print(\"Fetching until the requested frames are available...\")\n",
    "with requests.get(url, stream=True) as response:\n",
    "    waveform2, sample_rate2 = torchaudio.load(response.raw, frame_offset=frame_offset, num_frames=num_frames)\n",
    "    print(f\" - Fetched {response.raw.tell()} bytes\")\n",
    "\n",
    "print(\"Checking the resulting waveform ... \", end=\"\")\n",
    "assert (waveform1 == waveform2).all()\n",
    "print(\"matched!\")"
   ]
  },
  {
   "cell_type": "markdown",
   "metadata": {},
   "source": [
    "## Saving audio to file\n",
    "\n",
    "To save audio data in formats interpretable by common applications,\n",
    "you can use :py:func:`torchaudio.save`.\n",
    "\n",
    "This function accepts a path-like object or file-like object.\n",
    "\n",
    "When passing a file-like object, you also need to provide argument ``format``\n",
    "so that the function knows which format it should use. In the\n",
    "case of a path-like object, the function will infer the format from\n",
    "the extension. If you are saving to a file without an extension, you need\n",
    "to provide argument ``format``.\n",
    "\n",
    "When saving WAV-formatted data, the default encoding for ``float32`` Tensor\n",
    "is 32-bit floating-point PCM. You can provide arguments ``encoding`` and\n",
    "``bits_per_sample`` to change this behavior. For example, to save data\n",
    "in 16-bit signed integer PCM, you can do the following.\n",
    "\n",
    "<div class=\"alert alert-info\"><h4>Note</h4><p></p></div>\n",
    "\n",
    "Saving data in encodings with a lower bit depth reduces the\n",
    "resulting file size but also precision.\n",
    "\n",
    "\n"
   ]
  },
  {
   "cell_type": "code",
   "execution_count": null,
   "metadata": {
    "collapsed": false,
    "jupyter": {
     "outputs_hidden": false
    }
   },
   "outputs": [],
   "source": [
    "waveform, sample_rate = torchaudio.load(SAMPLE_WAV)"
   ]
  },
  {
   "cell_type": "code",
   "execution_count": null,
   "metadata": {
    "collapsed": false,
    "jupyter": {
     "outputs_hidden": false
    }
   },
   "outputs": [],
   "source": [
    "def inspect_file(path):\n",
    "    print(\"-\" * 10)\n",
    "    print(\"Source:\", path)\n",
    "    print(\"-\" * 10)\n",
    "    print(f\" - File size: {os.path.getsize(path)} bytes\")\n",
    "    print(f\" - {torchaudio.info(path)}\")\n",
    "    print()"
   ]
  },
  {
   "cell_type": "markdown",
   "metadata": {},
   "source": [
    "Save without any encoding option.\n",
    "The function will pick up the encoding which\n",
    "the provided data fit\n",
    "\n"
   ]
  },
  {
   "cell_type": "code",
   "execution_count": null,
   "metadata": {
    "collapsed": false,
    "jupyter": {
     "outputs_hidden": false
    }
   },
   "outputs": [],
   "source": [
    "with tempfile.TemporaryDirectory() as tempdir:\n",
    "    path = f\"{tempdir}/save_example_default.wav\"\n",
    "    torchaudio.save(path, waveform, sample_rate)\n",
    "    inspect_file(path)"
   ]
  },
  {
   "cell_type": "markdown",
   "metadata": {},
   "source": [
    "Save as 16-bit signed integer Linear PCM\n",
    "The resulting file occupies half the storage but loses precision\n",
    "\n"
   ]
  },
  {
   "cell_type": "code",
   "execution_count": null,
   "metadata": {
    "collapsed": false,
    "jupyter": {
     "outputs_hidden": false
    }
   },
   "outputs": [],
   "source": [
    "with tempfile.TemporaryDirectory() as tempdir:\n",
    "    path = f\"{tempdir}/save_example_PCM_S16.wav\"\n",
    "    torchaudio.save(path, waveform, sample_rate, encoding=\"PCM_S\", bits_per_sample=16)\n",
    "    inspect_file(path)"
   ]
  },
  {
   "cell_type": "markdown",
   "metadata": {},
   "source": [
    ":py:func:`torchaudio.save` can also handle other formats.\n",
    "To name a few:\n",
    "\n",
    "\n"
   ]
  },
  {
   "cell_type": "code",
   "execution_count": null,
   "metadata": {
    "collapsed": false,
    "jupyter": {
     "outputs_hidden": false
    }
   },
   "outputs": [],
   "source": [
    "formats = [\n",
    "    \"flac\",\n",
    "    \"vorbis\",\n",
    "    \"sph\",\n",
    "    \"amb\",\n",
    "    \"amr-nb\",\n",
    "    \"gsm\",\n",
    "]"
   ]
  },
  {
   "cell_type": "code",
   "execution_count": null,
   "metadata": {
    "collapsed": false,
    "jupyter": {
     "outputs_hidden": false
    }
   },
   "outputs": [],
   "source": [
    "waveform, sample_rate = torchaudio.load(SAMPLE_WAV_8000)\n",
    "with tempfile.TemporaryDirectory() as tempdir:\n",
    "    for format in formats:\n",
    "        path = f\"{tempdir}/save_example.{format}\"\n",
    "        torchaudio.save(path, waveform, sample_rate, format=format)\n",
    "        inspect_file(path)"
   ]
  },
  {
   "cell_type": "markdown",
   "metadata": {},
   "source": [
    "## Saving to file-like object\n",
    "\n",
    "Similar to the other I/O functions, you can save audio to file-like\n",
    "objects. When saving to a file-like object, argument ``format`` is\n",
    "required.\n",
    "\n",
    "\n"
   ]
  },
  {
   "cell_type": "code",
   "execution_count": null,
   "metadata": {
    "collapsed": false,
    "jupyter": {
     "outputs_hidden": false
    }
   },
   "outputs": [],
   "source": [
    "waveform, sample_rate = torchaudio.load(SAMPLE_WAV)\n",
    "\n",
    "# Saving to bytes buffer\n",
    "buffer_ = io.BytesIO()\n",
    "torchaudio.save(buffer_, waveform, sample_rate, format=\"wav\")\n",
    "\n",
    "buffer_.seek(0)\n",
    "print(buffer_.read(16))"
   ]
  },
  {
   "cell_type": "code",
   "execution_count": null,
   "metadata": {},
   "outputs": [],
   "source": [
    "endTime = time.time()\n",
    "\n",
    "elapsedTime = time.strftime(\"%H:%M:%S\", time.gmtime(endTime - startTime))\n",
    "\n",
    "print(todaysDate.strftime('# Run Date: %A, %B %d, %Y'))\n",
    "print(f\"# Run Time: {elapsedTime}\")"
   ]
  }
 ],
 "metadata": {
  "kernelspec": {
   "display_name": "Python 3 (ipykernel)",
   "language": "python",
   "name": "python3"
  },
  "language_info": {
   "codemirror_mode": {
    "name": "ipython",
    "version": 3
   },
   "file_extension": ".py",
   "mimetype": "text/x-python",
   "name": "python",
   "nbconvert_exporter": "python",
   "pygments_lexer": "ipython3",
   "version": "3.7.13"
  }
 },
 "nbformat": 4,
 "nbformat_minor": 4
}
