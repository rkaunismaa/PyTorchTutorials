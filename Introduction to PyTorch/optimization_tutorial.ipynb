{
 "cells": [
  {
   "cell_type": "markdown",
   "metadata": {},
   "source": [
    "Monday, Feburary 20, 2023\n",
    "\n",
    "https://pytorch.org/tutorials/beginner/basics/optimization_tutorial.html"
   ]
  },
  {
   "cell_type": "code",
   "execution_count": null,
   "metadata": {},
   "outputs": [],
   "source": [
    "# docker container start sad_nightingale\n",
    "# This notebook does not use the GPU\n",
    "# Run Date: Monday, February 20, 2023\n",
    "# Run Time: 00:01:01"
   ]
  },
  {
   "cell_type": "code",
   "execution_count": 1,
   "metadata": {},
   "outputs": [],
   "source": [
    "import time\n",
    "from datetime import date\n",
    "\n",
    "startTime = time.time()\n",
    "todaysDate = date.today()"
   ]
  },
  {
   "cell_type": "code",
   "execution_count": 2,
   "metadata": {
    "collapsed": false,
    "jupyter": {
     "outputs_hidden": false
    }
   },
   "outputs": [],
   "source": [
    "%matplotlib inline"
   ]
  },
  {
   "cell_type": "markdown",
   "metadata": {},
   "source": [
    "\n",
    "[Learn the Basics](intro.html) ||\n",
    "[Quickstart](quickstart_tutorial.html) ||\n",
    "[Tensors](tensorqs_tutorial.html) ||\n",
    "[Datasets & DataLoaders](data_tutorial.html) ||\n",
    "[Transforms](transforms_tutorial.html) ||\n",
    "[Build Model](buildmodel_tutorial.html) ||\n",
    "[Autograd](autogradqs_tutorial.html) ||\n",
    "**Optimization** ||\n",
    "[Save & Load Model](saveloadrun_tutorial.html)\n",
    "\n",
    "# Optimizing Model Parameters\n",
    "\n",
    "Now that we have a model and data it's time to train, validate and test our model by optimizing its parameters on\n",
    "our data. Training a model is an iterative process; in each iteration the model makes a guess about the output, calculates\n",
    "the error in its guess (*loss*), collects the derivatives of the error with respect to its parameters (as we saw in\n",
    "the [previous section](autograd_tutorial.html)), and **optimizes** these parameters using gradient descent. For a more\n",
    "detailed walkthrough of this process, check out this video on [backpropagation from 3Blue1Brown](https://www.youtube.com/watch?v=tIeHLnjs5U8)_.\n",
    "\n",
    "## Prerequisite Code\n",
    "We load the code from the previous sections on [Datasets & DataLoaders](data_tutorial.html)\n",
    "and [Build Model](buildmodel_tutorial.html).\n"
   ]
  },
  {
   "cell_type": "code",
   "execution_count": 3,
   "metadata": {
    "collapsed": false,
    "jupyter": {
     "outputs_hidden": false
    }
   },
   "outputs": [],
   "source": [
    "import torch\n",
    "from torch import nn\n",
    "from torch.utils.data import DataLoader\n",
    "from torchvision import datasets\n",
    "from torchvision.transforms import ToTensor\n",
    "\n",
    "training_data = datasets.FashionMNIST(\n",
    "    root=\"data\",\n",
    "    train=True,\n",
    "    download=True,\n",
    "    transform=ToTensor()\n",
    ")\n",
    "\n",
    "test_data = datasets.FashionMNIST(\n",
    "    root=\"data\",\n",
    "    train=False,\n",
    "    download=True,\n",
    "    transform=ToTensor()\n",
    ")\n",
    "\n",
    "train_dataloader = DataLoader(training_data, batch_size=64)\n",
    "test_dataloader = DataLoader(test_data, batch_size=64)\n",
    "\n",
    "class NeuralNetwork(nn.Module):\n",
    "    def __init__(self):\n",
    "        super(NeuralNetwork, self).__init__()\n",
    "        self.flatten = nn.Flatten()\n",
    "        self.linear_relu_stack = nn.Sequential(\n",
    "            nn.Linear(28*28, 512),\n",
    "            nn.ReLU(),\n",
    "            nn.Linear(512, 512),\n",
    "            nn.ReLU(),\n",
    "            nn.Linear(512, 10),\n",
    "        )\n",
    "\n",
    "    def forward(self, x):\n",
    "        x = self.flatten(x)\n",
    "        logits = self.linear_relu_stack(x)\n",
    "        return logits\n",
    "\n",
    "model = NeuralNetwork()"
   ]
  },
  {
   "cell_type": "markdown",
   "metadata": {},
   "source": [
    "## Hyperparameters\n",
    "\n",
    "Hyperparameters are adjustable parameters that let you control the model optimization process.\n",
    "Different hyperparameter values can impact model training and convergence rates\n",
    "([read more](https://pytorch.org/tutorials/beginner/hyperparameter_tuning_tutorial.html)_ about hyperparameter tuning)\n",
    "\n",
    "We define the following hyperparameters for training:\n",
    " - **Number of Epochs** - the number times to iterate over the dataset\n",
    " - **Batch Size** - the number of data samples propagated through the network before the parameters are updated\n",
    " - **Learning Rate** - how much to update models parameters at each batch/epoch. Smaller values yield slow learning speed, while large values may result in unpredictable behavior during training.\n",
    "\n",
    "\n"
   ]
  },
  {
   "cell_type": "code",
   "execution_count": 4,
   "metadata": {
    "collapsed": false,
    "jupyter": {
     "outputs_hidden": false
    }
   },
   "outputs": [],
   "source": [
    "learning_rate = 1e-3\n",
    "batch_size = 64\n",
    "epochs = 5"
   ]
  },
  {
   "cell_type": "markdown",
   "metadata": {},
   "source": [
    "## Optimization Loop\n",
    "\n",
    "Once we set our hyperparameters, we can then train and optimize our model with an optimization loop. Each\n",
    "iteration of the optimization loop is called an **epoch**.\n",
    "\n",
    "Each epoch consists of two main parts:\n",
    " - **The Train Loop** - iterate over the training dataset and try to converge to optimal parameters.\n",
    " - **The Validation/Test Loop** - iterate over the test dataset to check if model performance is improving.\n",
    "\n",
    "Let's briefly familiarize ourselves with some of the concepts used in the training loop. Jump ahead to\n",
    "see the `full-impl-label` of the optimization loop.\n",
    "\n",
    "### Loss Function\n",
    "\n",
    "When presented with some training data, our untrained network is likely not to give the correct\n",
    "answer. **Loss function** measures the degree of dissimilarity of obtained result to the target value,\n",
    "and it is the loss function that we want to minimize during training. To calculate the loss we make a\n",
    "prediction using the inputs of our given data sample and compare it against the true data label value.\n",
    "\n",
    "Common loss functions include [nn.MSELoss](https://pytorch.org/docs/stable/generated/torch.nn.MSELoss.html#torch.nn.MSELoss) (Mean Square Error) for regression tasks, and\n",
    "[nn.NLLLoss](https://pytorch.org/docs/stable/generated/torch.nn.NLLLoss.html#torch.nn.NLLLoss) (Negative Log Likelihood) for classification.\n",
    "[nn.CrossEntropyLoss](https://pytorch.org/docs/stable/generated/torch.nn.CrossEntropyLoss.html#torch.nn.CrossEntropyLoss) combines ``nn.LogSoftmax`` and ``nn.NLLLoss``.\n",
    "\n",
    "We pass our model's output logits to ``nn.CrossEntropyLoss``, which will normalize the logits and compute the prediction error.\n",
    "\n"
   ]
  },
  {
   "cell_type": "code",
   "execution_count": 5,
   "metadata": {
    "collapsed": false,
    "jupyter": {
     "outputs_hidden": false
    }
   },
   "outputs": [],
   "source": [
    "# Initialize the loss function\n",
    "loss_fn = nn.CrossEntropyLoss()"
   ]
  },
  {
   "cell_type": "markdown",
   "metadata": {},
   "source": [
    "### Optimizer\n",
    "\n",
    "Optimization is the process of adjusting model parameters to reduce model error in each training step. **Optimization algorithms** define how this process is performed (in this example we use Stochastic Gradient Descent).\n",
    "All optimization logic is encapsulated in  the ``optimizer`` object. Here, we use the SGD optimizer; additionally, there are many [different optimizers](https://pytorch.org/docs/stable/optim.html)\n",
    "available in PyTorch such as ADAM and RMSProp, that work better for different kinds of models and data.\n",
    "\n",
    "We initialize the optimizer by registering the model's parameters that need to be trained, and passing in the learning rate hyperparameter.\n",
    "\n"
   ]
  },
  {
   "cell_type": "code",
   "execution_count": 6,
   "metadata": {
    "collapsed": false,
    "jupyter": {
     "outputs_hidden": false
    }
   },
   "outputs": [],
   "source": [
    "optimizer = torch.optim.SGD(model.parameters(), lr=learning_rate)"
   ]
  },
  {
   "cell_type": "markdown",
   "metadata": {},
   "source": [
    "Inside the training loop, optimization happens in three steps:\n",
    " * Call ``optimizer.zero_grad()`` to reset the gradients of model parameters. Gradients by default add up; to prevent double-counting, we explicitly zero them at each iteration.\n",
    " * Backpropagate the prediction loss with a call to ``loss.backward()``. PyTorch deposits the gradients of the loss w.r.t. each parameter.\n",
    " * Once we have our gradients, we call ``optimizer.step()`` to adjust the parameters by the gradients collected in the backward pass.\n",
    "\n"
   ]
  },
  {
   "cell_type": "markdown",
   "metadata": {},
   "source": [
    "\n",
    "## Full Implementation\n",
    "We define ``train_loop`` that loops over our optimization code, and ``test_loop`` that\n",
    "evaluates the model's performance against our test data.\n",
    "\n"
   ]
  },
  {
   "cell_type": "code",
   "execution_count": 7,
   "metadata": {
    "collapsed": false,
    "jupyter": {
     "outputs_hidden": false
    }
   },
   "outputs": [],
   "source": [
    "def train_loop(dataloader, model, loss_fn, optimizer):\n",
    "    size = len(dataloader.dataset)\n",
    "    for batch, (X, y) in enumerate(dataloader):\n",
    "        # Compute prediction and loss\n",
    "        pred = model(X)\n",
    "        loss = loss_fn(pred, y)\n",
    "\n",
    "        # Backpropagation\n",
    "        optimizer.zero_grad()\n",
    "        loss.backward()\n",
    "        optimizer.step()\n",
    "\n",
    "        if batch % 100 == 0:\n",
    "            loss, current = loss.item(), (batch + 1) * len(X)\n",
    "            print(f\"loss: {loss:>7f}  [{current:>5d}/{size:>5d}]\")\n",
    "\n",
    "\n",
    "def test_loop(dataloader, model, loss_fn):\n",
    "    size = len(dataloader.dataset)\n",
    "    num_batches = len(dataloader)\n",
    "    test_loss, correct = 0, 0\n",
    "\n",
    "    with torch.no_grad():\n",
    "        for X, y in dataloader:\n",
    "            pred = model(X)\n",
    "            test_loss += loss_fn(pred, y).item()\n",
    "            correct += (pred.argmax(1) == y).type(torch.float).sum().item()\n",
    "\n",
    "    test_loss /= num_batches\n",
    "    correct /= size\n",
    "    print(f\"Test Error: \\n Accuracy: {(100*correct):>0.1f}%, Avg loss: {test_loss:>8f} \\n\")"
   ]
  },
  {
   "cell_type": "markdown",
   "metadata": {},
   "source": [
    "We initialize the loss function and optimizer, and pass it to ``train_loop`` and ``test_loop``.\n",
    "Feel free to increase the number of epochs to track the model's improving performance.\n",
    "\n"
   ]
  },
  {
   "cell_type": "code",
   "execution_count": 8,
   "metadata": {
    "collapsed": false,
    "jupyter": {
     "outputs_hidden": false
    }
   },
   "outputs": [
    {
     "name": "stdout",
     "output_type": "stream",
     "text": [
      "Epoch 1\n",
      "-------------------------------\n",
      "loss: 2.307247  [   64/60000]\n",
      "loss: 2.286822  [ 6464/60000]\n",
      "loss: 2.269917  [12864/60000]\n",
      "loss: 2.258898  [19264/60000]\n",
      "loss: 2.237927  [25664/60000]\n",
      "loss: 2.218292  [32064/60000]\n",
      "loss: 2.225202  [38464/60000]\n",
      "loss: 2.192120  [44864/60000]\n",
      "loss: 2.195571  [51264/60000]\n",
      "loss: 2.152361  [57664/60000]\n",
      "Test Error: \n",
      " Accuracy: 41.1%, Avg loss: 2.146090 \n",
      "\n",
      "Epoch 2\n",
      "-------------------------------\n",
      "loss: 2.167910  [   64/60000]\n",
      "loss: 2.148996  [ 6464/60000]\n",
      "loss: 2.093942  [12864/60000]\n",
      "loss: 2.097984  [19264/60000]\n",
      "loss: 2.047694  [25664/60000]\n",
      "loss: 1.997761  [32064/60000]\n",
      "loss: 2.021878  [38464/60000]\n",
      "loss: 1.943301  [44864/60000]\n",
      "loss: 1.956961  [51264/60000]\n",
      "loss: 1.861078  [57664/60000]\n",
      "Test Error: \n",
      " Accuracy: 56.5%, Avg loss: 1.864241 \n",
      "\n",
      "Epoch 3\n",
      "-------------------------------\n",
      "loss: 1.915025  [   64/60000]\n",
      "loss: 1.868700  [ 6464/60000]\n",
      "loss: 1.758133  [12864/60000]\n",
      "loss: 1.779461  [19264/60000]\n",
      "loss: 1.670906  [25664/60000]\n",
      "loss: 1.638255  [32064/60000]\n",
      "loss: 1.649182  [38464/60000]\n",
      "loss: 1.555594  [44864/60000]\n",
      "loss: 1.587296  [51264/60000]\n",
      "loss: 1.463356  [57664/60000]\n",
      "Test Error: \n",
      " Accuracy: 60.4%, Avg loss: 1.484835 \n",
      "\n",
      "Epoch 4\n",
      "-------------------------------\n",
      "loss: 1.569330  [   64/60000]\n",
      "loss: 1.518513  [ 6464/60000]\n",
      "loss: 1.377758  [12864/60000]\n",
      "loss: 1.428538  [19264/60000]\n",
      "loss: 1.316231  [25664/60000]\n",
      "loss: 1.324650  [32064/60000]\n",
      "loss: 1.331498  [38464/60000]\n",
      "loss: 1.258496  [44864/60000]\n",
      "loss: 1.294591  [51264/60000]\n",
      "loss: 1.194503  [57664/60000]\n",
      "Test Error: \n",
      " Accuracy: 63.3%, Avg loss: 1.216535 \n",
      "\n",
      "Epoch 5\n",
      "-------------------------------\n",
      "loss: 1.303961  [   64/60000]\n",
      "loss: 1.276760  [ 6464/60000]\n",
      "loss: 1.118284  [12864/60000]\n",
      "loss: 1.209898  [19264/60000]\n",
      "loss: 1.091417  [25664/60000]\n",
      "loss: 1.121921  [32064/60000]\n",
      "loss: 1.144644  [38464/60000]\n",
      "loss: 1.080282  [44864/60000]\n",
      "loss: 1.116408  [51264/60000]\n",
      "loss: 1.044038  [57664/60000]\n",
      "Test Error: \n",
      " Accuracy: 65.1%, Avg loss: 1.056855 \n",
      "\n",
      "Epoch 6\n",
      "-------------------------------\n",
      "loss: 1.132901  [   64/60000]\n",
      "loss: 1.130508  [ 6464/60000]\n",
      "loss: 0.954450  [12864/60000]\n",
      "loss: 1.079991  [19264/60000]\n",
      "loss: 0.959549  [25664/60000]\n",
      "loss: 0.991391  [32064/60000]\n",
      "loss: 1.033210  [38464/60000]\n",
      "loss: 0.972107  [44864/60000]\n",
      "loss: 1.003995  [51264/60000]\n",
      "loss: 0.952981  [57664/60000]\n",
      "Test Error: \n",
      " Accuracy: 66.4%, Avg loss: 0.957415 \n",
      "\n",
      "Epoch 7\n",
      "-------------------------------\n",
      "loss: 1.018583  [   64/60000]\n",
      "loss: 1.038212  [ 6464/60000]\n",
      "loss: 0.845924  [12864/60000]\n",
      "loss: 0.995652  [19264/60000]\n",
      "loss: 0.877852  [25664/60000]\n",
      "loss: 0.901220  [32064/60000]\n",
      "loss: 0.961082  [38464/60000]\n",
      "loss: 0.903433  [44864/60000]\n",
      "loss: 0.927650  [51264/60000]\n",
      "loss: 0.892149  [57664/60000]\n",
      "Test Error: \n",
      " Accuracy: 67.6%, Avg loss: 0.890389 \n",
      "\n",
      "Epoch 8\n",
      "-------------------------------\n",
      "loss: 0.935952  [   64/60000]\n",
      "loss: 0.974642  [ 6464/60000]\n",
      "loss: 0.768815  [12864/60000]\n",
      "loss: 0.935985  [19264/60000]\n",
      "loss: 0.823091  [25664/60000]\n",
      "loss: 0.835688  [32064/60000]\n",
      "loss: 0.909953  [38464/60000]\n",
      "loss: 0.857264  [44864/60000]\n",
      "loss: 0.872748  [51264/60000]\n",
      "loss: 0.847747  [57664/60000]\n",
      "Test Error: \n",
      " Accuracy: 69.0%, Avg loss: 0.841928 \n",
      "\n",
      "Epoch 9\n",
      "-------------------------------\n",
      "loss: 0.872193  [   64/60000]\n",
      "loss: 0.926728  [ 6464/60000]\n",
      "loss: 0.710919  [12864/60000]\n",
      "loss: 0.891094  [19264/60000]\n",
      "loss: 0.783609  [25664/60000]\n",
      "loss: 0.786392  [32064/60000]\n",
      "loss: 0.870737  [38464/60000]\n",
      "loss: 0.824408  [44864/60000]\n",
      "loss: 0.831133  [51264/60000]\n",
      "loss: 0.813235  [57664/60000]\n",
      "Test Error: \n",
      " Accuracy: 70.3%, Avg loss: 0.804798 \n",
      "\n",
      "Epoch 10\n",
      "-------------------------------\n",
      "loss: 0.820987  [   64/60000]\n",
      "loss: 0.887863  [ 6464/60000]\n",
      "loss: 0.665683  [12864/60000]\n",
      "loss: 0.855640  [19264/60000]\n",
      "loss: 0.753364  [25664/60000]\n",
      "loss: 0.748166  [32064/60000]\n",
      "loss: 0.838604  [38464/60000]\n",
      "loss: 0.799552  [44864/60000]\n",
      "loss: 0.798492  [51264/60000]\n",
      "loss: 0.784998  [57664/60000]\n",
      "Test Error: \n",
      " Accuracy: 71.6%, Avg loss: 0.774876 \n",
      "\n",
      "Done!\n",
      "CPU times: user 4min 34s, sys: 3min 22s, total: 7min 56s\n",
      "Wall time: 1min\n"
     ]
    }
   ],
   "source": [
    "%%time\n",
    "loss_fn = nn.CrossEntropyLoss()\n",
    "optimizer = torch.optim.SGD(model.parameters(), lr=learning_rate)\n",
    "\n",
    "epochs = 10\n",
    "for t in range(epochs):\n",
    "    print(f\"Epoch {t+1}\\n-------------------------------\")\n",
    "    train_loop(train_dataloader, model, loss_fn, optimizer)\n",
    "    test_loop(test_dataloader, model, loss_fn)\n",
    "print(\"Done!\")"
   ]
  },
  {
   "cell_type": "markdown",
   "metadata": {},
   "source": [
    "## Further Reading\n",
    "- [Loss Functions](https://pytorch.org/docs/stable/nn.html#loss-functions)\n",
    "- [torch.optim](https://pytorch.org/docs/stable/optim.html)\n",
    "- [Warmstart Training a Model](https://pytorch.org/tutorials/recipes/recipes/warmstarting_model_using_parameters_from_a_different_model.html)\n",
    "\n",
    "\n"
   ]
  },
  {
   "cell_type": "code",
   "execution_count": 9,
   "metadata": {
    "tags": []
   },
   "outputs": [
    {
     "name": "stdout",
     "output_type": "stream",
     "text": [
      "# Run Date: Monday, February 20, 2023\n",
      "# Run Time: 00:01:01\n"
     ]
    }
   ],
   "source": [
    "endTime = time.time()\n",
    "\n",
    "elapsedTime = time.strftime(\"%H:%M:%S\", time.gmtime(endTime - startTime))\n",
    "\n",
    "print(todaysDate.strftime('# Run Date: %A, %B %d, %Y'))\n",
    "print(f\"# Run Time: {elapsedTime}\")"
   ]
  }
 ],
 "metadata": {
  "kernelspec": {
   "display_name": "Python 3 (ipykernel)",
   "language": "python",
   "name": "python3"
  },
  "language_info": {
   "codemirror_mode": {
    "name": "ipython",
    "version": 3
   },
   "file_extension": ".py",
   "mimetype": "text/x-python",
   "name": "python",
   "nbconvert_exporter": "python",
   "pygments_lexer": "ipython3",
   "version": "3.10.8"
  }
 },
 "nbformat": 4,
 "nbformat_minor": 4
}
